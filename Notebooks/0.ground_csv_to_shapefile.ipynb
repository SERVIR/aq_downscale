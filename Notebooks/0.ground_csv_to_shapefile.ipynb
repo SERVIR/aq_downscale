{
 "cells": [
  {
   "cell_type": "code",
   "execution_count": 12,
   "id": "2030ae4f-b4b0-47f8-b752-fa3c62a73eb3",
   "metadata": {},
   "outputs": [],
   "source": [
    "import os\n",
    "BASE_DIR = os.path.dirname(os.path.dirname(os.path.abspath('__file__')))\n",
    "\n",
    "from pathlib import Path\n",
    "import glob\n",
    "\n",
    "import pandas as pd\n",
    "import geopandas as gpd\n",
    "import rasterio\n",
    "\n",
    "import matplotlib.pyplot as plt"
   ]
  },
  {
   "cell_type": "code",
   "execution_count": 2,
   "id": "b17b3b3b-8bab-45ab-8d21-16c940f4f6cb",
   "metadata": {},
   "outputs": [
    {
     "data": {
      "text/plain": [
       "'/Users/biplovbhandari/UAH/GRA_Work/AQ_Downscaling/csv2019novto2020nov'"
      ]
     },
     "execution_count": 2,
     "metadata": {},
     "output_type": "execute_result"
    }
   ],
   "source": [
    "csv_folder = f'{BASE_DIR}/csv2019novto2020nov'\n",
    "csv_folder"
   ]
  },
  {
   "cell_type": "code",
   "execution_count": 3,
   "id": "cea28ed9-fb21-4bef-ae2a-a9c80eb9735b",
   "metadata": {},
   "outputs": [],
   "source": [
    "output_path = f'{BASE_DIR}/ground_shapefile'\n",
    "output_path\n",
    "Path(f'{output_path}').mkdir(parents=True, exist_ok=True)"
   ]
  },
  {
   "cell_type": "code",
   "execution_count": 4,
   "id": "57da7704-1d07-4c93-ac85-567dda3ee668",
   "metadata": {},
   "outputs": [
    {
     "data": {
      "text/plain": [
       "373"
      ]
     },
     "execution_count": 4,
     "metadata": {},
     "output_type": "execute_result"
    }
   ],
   "source": [
    "csv_files = glob.glob(f'{csv_folder}/*.csv')\n",
    "csv_files.sort()\n",
    "# csv_files = csv_files[:5]\n",
    "len(csv_files)"
   ]
  },
  {
   "cell_type": "code",
   "execution_count": 5,
   "id": "b50d0856-299e-41e1-83f7-3cc87ee73cd5",
   "metadata": {},
   "outputs": [
    {
     "name": "stdout",
     "output_type": "stream",
     "text": [
      "Completed 1 out of 373: 0.27%\n"
     ]
    },
    {
     "name": "stderr",
     "output_type": "stream",
     "text": [
      "/var/folders/0p/xvtgn5w10rd8j7n3rb6z58v00000gn/T/ipykernel_64306/3707533724.py:11: UserWarning: Column names longer than 10 characters will be truncated when saved to ESRI Shapefile.\n",
      "  gdf.to_file(f'{output_path}/{file_name}.shp', driver='ESRI Shapefile')\n"
     ]
    },
    {
     "name": "stdout",
     "output_type": "stream",
     "text": [
      "Completed 11 out of 373: 2.95%\n",
      "Completed 21 out of 373: 5.63%\n",
      "Completed 31 out of 373: 8.31%\n",
      "empty dataframe for file: 2019-12-28.csv\n",
      "empty dataframe for file: 2019-12-29.csv\n",
      "empty dataframe for file: 2020-01-01.csv\n",
      "Completed 41 out of 373: 10.99%\n",
      "empty dataframe for file: 2020-01-02.csv\n",
      "empty dataframe for file: 2020-01-10.csv\n",
      "Completed 51 out of 373: 13.67%\n",
      "Completed 61 out of 373: 16.35%\n",
      "empty dataframe for file: 2020-01-27.csv\n",
      "Completed 71 out of 373: 19.03%\n",
      "Completed 81 out of 373: 21.72%\n",
      "Completed 91 out of 373: 24.4%\n",
      "Completed 101 out of 373: 27.08%\n",
      "empty dataframe for file: 2020-03-02.csv\n",
      "empty dataframe for file: 2020-03-05.csv\n",
      "Completed 111 out of 373: 29.76%\n",
      "empty dataframe for file: 2020-03-12.csv\n",
      "Completed 121 out of 373: 32.44%\n",
      "Completed 131 out of 373: 35.12%\n",
      "empty dataframe for file: 2020-04-05.csv\n",
      "empty dataframe for file: 2020-04-08.csv\n",
      "empty dataframe for file: 2020-04-10.csv\n",
      "Completed 141 out of 373: 37.8%\n",
      "empty dataframe for file: 2020-04-12.csv\n",
      "empty dataframe for file: 2020-04-16.csv\n",
      "empty dataframe for file: 2020-04-17.csv\n",
      "empty dataframe for file: 2020-04-18.csv\n",
      "Completed 151 out of 373: 40.48%\n",
      "empty dataframe for file: 2020-04-26.csv\n",
      "empty dataframe for file: 2020-04-27.csv\n",
      "Completed 161 out of 373: 43.16%\n",
      "Completed 171 out of 373: 45.84%\n",
      "Completed 181 out of 373: 48.53%\n",
      "Completed 191 out of 373: 51.21%\n",
      "Completed 201 out of 373: 53.89%\n",
      "empty dataframe for file: 2020-06-10.csv\n",
      "Completed 211 out of 373: 56.57%\n",
      "Completed 221 out of 373: 59.25%\n",
      "Completed 231 out of 373: 61.93%\n",
      "empty dataframe for file: 2020-07-16.csv\n",
      "Completed 241 out of 373: 64.61%\n",
      "empty dataframe for file: 2020-07-22.csv\n",
      "empty dataframe for file: 2020-07-23.csv\n",
      "empty dataframe for file: 2020-07-25.csv\n",
      "Completed 251 out of 373: 67.29%\n",
      "Completed 261 out of 373: 69.97%\n",
      "Completed 271 out of 373: 72.65%\n",
      "Completed 281 out of 373: 75.34%\n",
      "Completed 291 out of 373: 78.02%\n",
      "empty dataframe for file: 2020-09-09.csv\n",
      "Completed 301 out of 373: 80.7%\n",
      "Completed 311 out of 373: 83.38%\n",
      "Completed 321 out of 373: 86.06%\n",
      "Completed 331 out of 373: 88.74%\n",
      "Completed 341 out of 373: 91.42%\n",
      "empty dataframe for file: 2020-11-05.csv\n",
      "Completed 351 out of 373: 94.1%\n",
      "empty dataframe for file: 2020-11-09.csv\n",
      "Completed 361 out of 373: 96.78%\n",
      "empty dataframe for file: 2020-11-17.csv\n",
      "empty dataframe for file: 2020-11-18.csv\n",
      "empty dataframe for file: 2020-11-20.csv\n",
      "empty dataframe for file: 2020-11-23.csv\n",
      "Completed 371 out of 373: 99.46%\n"
     ]
    }
   ],
   "source": [
    "completed = 0\n",
    "for j, csv_file in enumerate(csv_files):\n",
    "    completed += 1\n",
    "    if j % 10 == 0:\n",
    "        print(f'Completed {completed} out of {len(csv_files)}: {round(completed / len(csv_files) * 100, 2)}%')\n",
    "\n",
    "    df = pd.read_csv(csv_file)\n",
    "    file_name = (csv_file.split(f'{csv_folder}/')[1]).split('.csv')[0]\n",
    "    if not df.empty:\n",
    "        gdf = gpd.GeoDataFrame(df, geometry=gpd.points_from_xy(df.station_lon, df.station_lat), crs='epsg:4326')\n",
    "        gdf.to_file(f'{output_path}/{file_name}.shp', driver='ESRI Shapefile')\n",
    "    else:\n",
    "        print(f'empty dataframe for file: {file_name}.csv')\n"
   ]
  },
  {
   "cell_type": "code",
   "execution_count": null,
   "id": "770cc337-b524-4571-8aa7-405c7114754d",
   "metadata": {},
   "outputs": [],
   "source": []
  }
 ],
 "metadata": {
  "kernelspec": {
   "display_name": "aq",
   "language": "python",
   "name": "aq"
  },
  "language_info": {
   "codemirror_mode": {
    "name": "ipython",
    "version": 3
   },
   "file_extension": ".py",
   "mimetype": "text/x-python",
   "name": "python",
   "nbconvert_exporter": "python",
   "pygments_lexer": "ipython3",
   "version": "3.9.5"
  }
 },
 "nbformat": 4,
 "nbformat_minor": 5
}
