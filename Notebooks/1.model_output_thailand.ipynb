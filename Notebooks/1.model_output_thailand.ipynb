{
 "cells": [
  {
   "cell_type": "code",
   "execution_count": 1,
   "id": "5cd652e9-39ba-4e86-8589-0414440df4ce",
   "metadata": {},
   "outputs": [],
   "source": [
    "# import needed libraries\n",
    "import os\n",
    "BASE_DIR = os.path.dirname(os.path.dirname(os.path.abspath('__file__')))\n",
    "\n",
    "from pathlib import Path\n",
    "import glob\n",
    "\n",
    "import xarray as xr\n",
    "import rioxarray as rxr\n",
    "import geopandas as gpd"
   ]
  },
  {
   "cell_type": "code",
   "execution_count": 2,
   "id": "2b58071d-1c80-4f90-9a49-265b05a45015",
   "metadata": {},
   "outputs": [
    {
     "data": {
      "text/plain": [
       "'/Users/biplovbhandari/UAH/GRA_Work/AQ_Downscaling/geos'"
      ]
     },
     "execution_count": 2,
     "metadata": {},
     "output_type": "execute_result"
    }
   ],
   "source": [
    "nc_folder = f'{BASE_DIR}/geos'\n",
    "nc_folder"
   ]
  },
  {
   "cell_type": "code",
   "execution_count": 3,
   "id": "79bc9f47-8292-49b3-bd54-5b7da609525e",
   "metadata": {},
   "outputs": [
    {
     "data": {
      "text/plain": [
       "'/Users/biplovbhandari/UAH/GRA_Work/AQ_Downscaling/forecast_data_thailand'"
      ]
     },
     "execution_count": 3,
     "metadata": {},
     "output_type": "execute_result"
    }
   ],
   "source": [
    "output_path = f'{BASE_DIR}/forecast_data_thailand'\n",
    "Path(output_path).mkdir(parents=True, exist_ok=True)\n",
    "output_path"
   ]
  },
  {
   "cell_type": "code",
   "execution_count": 4,
   "id": "1162d334-09be-4e16-8c48-b4b9d116563d",
   "metadata": {},
   "outputs": [
    {
     "data": {
      "text/plain": [
       "551"
      ]
     },
     "execution_count": 4,
     "metadata": {},
     "output_type": "execute_result"
    }
   ],
   "source": [
    "nc_files = glob.glob(f'{nc_folder}/*.nc')\n",
    "nc_files.sort()\n",
    "len(nc_files)"
   ]
  },
  {
   "cell_type": "code",
   "execution_count": 18,
   "id": "a0cbbf64-0676-40da-92f1-66871869e176",
   "metadata": {},
   "outputs": [
    {
     "name": "stdout",
     "output_type": "stream",
     "text": [
      "       MINX      MINY        MAXX    MAXY        CNTX       CNTY        AREA  \\\n",
      "0  97.03125  5.366368  105.806601  20.625  101.418925  12.995684  133.899844   \n",
      "\n",
      "       PERIM     HEIGHT     WIDTH  \\\n",
      "0  48.067965  15.258632  8.775351   \n",
      "\n",
      "                                            geometry  \n",
      "0  POLYGON ((97.03125 5.366368081767842, 97.03125...  \n"
     ]
    }
   ],
   "source": [
    "# 97.031250000,105.806600545,5.366368082,20.625000000\n",
    "\n",
    "bbox = gpd.read_file(f'{BASE_DIR}/BBOX/ThailandBBOX_final_upscaled.shp')\n",
    "print(bbox.to_wkt())"
   ]
  },
  {
   "cell_type": "code",
   "execution_count": 6,
   "id": "c1c7f538-e8ae-41ba-8de5-596169223c7a",
   "metadata": {},
   "outputs": [
    {
     "name": "stdout",
     "output_type": "stream",
     "text": [
      "Completed 1 out of 551: 0.18%\n",
      "Completed 11 out of 551: 2.0%\n",
      "Completed 21 out of 551: 3.81%\n",
      "Completed 31 out of 551: 5.63%\n",
      "Completed 41 out of 551: 7.44%\n",
      "Completed 51 out of 551: 9.26%\n",
      "Completed 61 out of 551: 11.07%\n",
      "Completed 71 out of 551: 12.89%\n",
      "Completed 81 out of 551: 14.7%\n",
      "Completed 91 out of 551: 16.52%\n",
      "Completed 101 out of 551: 18.33%\n",
      "Completed 111 out of 551: 20.15%\n",
      "Completed 121 out of 551: 21.96%\n",
      "Completed 131 out of 551: 23.77%\n",
      "Completed 141 out of 551: 25.59%\n",
      "Completed 151 out of 551: 27.4%\n",
      "Completed 161 out of 551: 29.22%\n",
      "Completed 171 out of 551: 31.03%\n",
      "Completed 181 out of 551: 32.85%\n",
      "Completed 191 out of 551: 34.66%\n",
      "Completed 201 out of 551: 36.48%\n",
      "Completed 211 out of 551: 38.29%\n",
      "No data found in the file: /Users/biplovbhandari/UAH/GRA_Work/AQ_Downscaling/geos/20200716.nc\n",
      "Completed 221 out of 551: 40.11%\n",
      "Completed 231 out of 551: 41.92%\n",
      "Completed 241 out of 551: 43.74%\n",
      "Completed 251 out of 551: 45.55%\n",
      "Completed 261 out of 551: 47.37%\n",
      "No data found in the file: /Users/biplovbhandari/UAH/GRA_Work/AQ_Downscaling/geos/20200909.nc\n",
      "Completed 271 out of 551: 49.18%\n",
      "Completed 281 out of 551: 51.0%\n",
      "Completed 291 out of 551: 52.81%\n",
      "Completed 301 out of 551: 54.63%\n",
      "Completed 311 out of 551: 56.44%\n",
      "Completed 321 out of 551: 58.26%\n",
      "No data found in the file: /Users/biplovbhandari/UAH/GRA_Work/AQ_Downscaling/geos/20201105.nc\n",
      "Completed 331 out of 551: 60.07%\n",
      "No data found in the file: /Users/biplovbhandari/UAH/GRA_Work/AQ_Downscaling/geos/20201109.nc\n",
      "No data found in the file: /Users/biplovbhandari/UAH/GRA_Work/AQ_Downscaling/geos/20201117.nc\n",
      "No data found in the file: /Users/biplovbhandari/UAH/GRA_Work/AQ_Downscaling/geos/20201118.nc\n",
      "Completed 341 out of 551: 61.89%\n",
      "No data found in the file: /Users/biplovbhandari/UAH/GRA_Work/AQ_Downscaling/geos/20201120.nc\n",
      "No data found in the file: /Users/biplovbhandari/UAH/GRA_Work/AQ_Downscaling/geos/20201123.nc\n",
      "Completed 351 out of 551: 63.7%\n",
      "No data found in the file: /Users/biplovbhandari/UAH/GRA_Work/AQ_Downscaling/geos/20201129.nc\n",
      "No data found in the file: /Users/biplovbhandari/UAH/GRA_Work/AQ_Downscaling/geos/20201208.nc\n",
      "Completed 361 out of 551: 65.52%\n",
      "Completed 371 out of 551: 67.33%\n",
      "Completed 381 out of 551: 69.15%\n",
      "Completed 391 out of 551: 70.96%\n",
      "Completed 401 out of 551: 72.78%\n",
      "No data found in the file: /Users/biplovbhandari/UAH/GRA_Work/AQ_Downscaling/geos/20210125.nc\n",
      "Completed 411 out of 551: 74.59%\n",
      "Completed 421 out of 551: 76.41%\n",
      "Completed 431 out of 551: 78.22%\n",
      "Completed 441 out of 551: 80.04%\n",
      "Completed 451 out of 551: 81.85%\n",
      "Completed 461 out of 551: 83.67%\n",
      "Completed 471 out of 551: 85.48%\n",
      "Completed 481 out of 551: 87.3%\n",
      "Completed 491 out of 551: 89.11%\n",
      "Completed 501 out of 551: 90.93%\n",
      "Completed 511 out of 551: 92.74%\n",
      "Completed 521 out of 551: 94.56%\n",
      "No data found in the file: /Users/biplovbhandari/UAH/GRA_Work/AQ_Downscaling/geos/20210619.nc\n",
      "Completed 531 out of 551: 96.37%\n",
      "Completed 541 out of 551: 98.19%\n",
      "Completed 551 out of 551: 100.0%\n"
     ]
    }
   ],
   "source": [
    "completed = 0\n",
    "\n",
    "for j, nc_file in enumerate(nc_files):\n",
    "    completed += 1\n",
    "    if j % 10 == 0:\n",
    "        print(f'Completed {completed} out of {len(nc_files)}: {round(completed / len(nc_files) * 100, 2)}%')\n",
    "\n",
    "    try:\n",
    "        nc = xr.open_dataset(f'{nc_file}')\n",
    "    except:\n",
    "        print(f'No data found in the file: {nc_file}')\n",
    "\n",
    "    pm25 = nc.PM25\n",
    "    # the forecast are for the next 3 days with 3 hours interval (i.e. 24/3 * 3 = 24 datetime)\n",
    "    # we will extract for the same day (i.e. the next 8 datetime)\n",
    "    for i in range(8):\n",
    "        hour_i = pm25.isel(time=i)\n",
    "        str_rep = str(hour_i.time.dt.strftime('%Y-%m-%d %H-%M-%S').values)\n",
    "        str_rep = 'T'.join(str_rep.split(' '))\n",
    "        year = str_rep[:10]\n",
    "        Path(f'{output_path}/{year}').mkdir(parents=True, exist_ok=True)\n",
    "        hour_i = hour_i.rename({'lat': 'y', 'lon': 'x'})\n",
    "        hour_i = hour_i.rio.write_crs('epsg:4326')\n",
    "        clipped = hour_i.rio.clip(bbox.geometry, bbox.crs, drop=True, invert=False)\n",
    "        clipped.rio.to_raster(f'{output_path}/{year}/{str_rep}.tif')\n"
   ]
  },
  {
   "cell_type": "code",
   "execution_count": null,
   "id": "4fc98e2d-db8b-4ef9-92fa-323ac59af193",
   "metadata": {},
   "outputs": [],
   "source": []
  }
 ],
 "metadata": {
  "kernelspec": {
   "display_name": "aq",
   "language": "python",
   "name": "aq"
  },
  "language_info": {
   "codemirror_mode": {
    "name": "ipython",
    "version": 3
   },
   "file_extension": ".py",
   "mimetype": "text/x-python",
   "name": "python",
   "nbconvert_exporter": "python",
   "pygments_lexer": "ipython3",
   "version": "3.9.5"
  }
 },
 "nbformat": 4,
 "nbformat_minor": 5
}
