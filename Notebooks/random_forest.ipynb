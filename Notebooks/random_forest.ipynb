{
 "cells": [
  {
   "cell_type": "markdown",
   "id": "ac4d9777-c4c9-4b46-a80f-df87d24d6e4b",
   "metadata": {
    "tags": []
   },
   "source": [
    "### imports"
   ]
  },
  {
   "cell_type": "code",
   "execution_count": 1,
   "id": "3306ae29-24e9-4b36-95b7-4a9960e83415",
   "metadata": {},
   "outputs": [
    {
     "name": "stdout",
     "output_type": "stream",
     "text": [
      "BASE_DIR: /Users/bbhandar/UAH/GRA_Work/aq_downscale_github\n"
     ]
    }
   ],
   "source": [
    "import os\n",
    "BASE_DIR = os.path.dirname(os.path.dirname(os.path.abspath('__file__')))\n",
    "print(f'BASE_DIR: {BASE_DIR}')\n",
    "\n",
    "from datetime import datetime\n",
    "from pathlib import Path\n",
    "\n",
    "import numpy as np\n",
    "import pandas as pd\n",
    "from sklearn.metrics import mean_absolute_error\n",
    "from sklearn.ensemble import RandomForestRegressor\n",
    "from sklearn.model_selection import train_test_split\n",
    "\n",
    "from matplotlib import pyplot\n",
    "import matplotlib.pyplot as plt\n",
    "%matplotlib inline\n",
    "\n",
    "from tensorflow import keras\n"
   ]
  },
  {
   "cell_type": "code",
   "execution_count": null,
   "id": "443d2171-e9cb-4173-8679-b00d6d43ceb4",
   "metadata": {},
   "outputs": [],
   "source": []
  },
  {
   "cell_type": "markdown",
   "id": "b812d408-fdea-4452-975c-6457fde682a7",
   "metadata": {
    "tags": []
   },
   "source": [
    "### useful functions"
   ]
  },
  {
   "cell_type": "code",
   "execution_count": 2,
   "id": "8ed26972-c720-4d4c-9f34-ec0b0476c90a",
   "metadata": {
    "tags": []
   },
   "outputs": [],
   "source": [
    "def make_dataset(data, targets, window_size, shuffle=False):\n",
    "    data = np.array(data, dtype=np.float32)\n",
    "    ds = keras.preprocessing.timeseries_dataset_from_array(\n",
    "        data=data,\n",
    "        targets=targets,\n",
    "        sequence_length=window_size,\n",
    "        sequence_stride=1,\n",
    "        shuffle=shuffle,\n",
    "        batch_size=1,\n",
    "    )\n",
    "\n",
    "    return ds"
   ]
  },
  {
   "cell_type": "markdown",
   "id": "89b6001b-b8f0-48eb-b425-a678c7efea95",
   "metadata": {
    "tags": []
   },
   "source": [
    "### variables"
   ]
  },
  {
   "cell_type": "code",
   "execution_count": 8,
   "id": "81bbe009-463e-4e86-96af-2a1885293ee9",
   "metadata": {},
   "outputs": [],
   "source": [
    "window_size = 5"
   ]
  },
  {
   "cell_type": "code",
   "execution_count": 23,
   "id": "76577bb4-bc0f-4846-8780-d4544be350e1",
   "metadata": {},
   "outputs": [
    {
     "data": {
      "text/plain": [
       "10957"
      ]
     },
     "execution_count": 23,
     "metadata": {},
     "output_type": "execute_result"
    }
   ],
   "source": [
    "start_date = '1990-01-01'\n",
    "end_date = '2019-12-31'\n",
    "full_dates = pd.date_range(datetime.strptime(start_date, '%Y-%m-%d'),\n",
    "                           datetime.strptime(end_date, '%Y-%m-%d'), freq='d')\\\n",
    "             .strftime('%Y-%m-%d').tolist()\n",
    "idx = pd.DatetimeIndex(pd.date_range(start=start_date, end=end_date, freq='1D'))\n",
    "len(full_dates)"
   ]
  },
  {
   "cell_type": "code",
   "execution_count": 24,
   "id": "da3bb477-ec79-462f-b00d-c39cb8c58942",
   "metadata": {},
   "outputs": [],
   "source": [
    "model_folder = f'{BASE_DIR}/models/rf'\n",
    "output_folder = f'{BASE_DIR}/output/rf'\n",
    "\n",
    "Path(f'{model_folder}').mkdir(parents=True, exist_ok=True)\n",
    "Path(f'{output_folder}').mkdir(parents=True, exist_ok=True)"
   ]
  },
  {
   "cell_type": "code",
   "execution_count": null,
   "id": "b4deac3a-c2b2-45f1-80f8-c36639991733",
   "metadata": {},
   "outputs": [],
   "source": []
  },
  {
   "cell_type": "markdown",
   "id": "47ae3adb-ee35-4888-bb2c-3d709ccd5786",
   "metadata": {
    "tags": []
   },
   "source": [
    "#### train"
   ]
  },
  {
   "cell_type": "code",
   "execution_count": 21,
   "id": "ba59a5af-ab78-4e5f-83d8-e2be770e751b",
   "metadata": {},
   "outputs": [],
   "source": [
    "n_estimators = 80"
   ]
  },
  {
   "cell_type": "code",
   "execution_count": 26,
   "id": "7f9069de-595f-4bed-9ddf-8076ec522e6e",
   "metadata": {
    "tags": []
   },
   "outputs": [
    {
     "name": "stdout",
     "output_type": "stream",
     "text": [
      "test mae: 17.687132444530725\n",
      "oob_score: 0.7238762962494437\n"
     ]
    }
   ],
   "source": [
    "# load the dataset\n",
    "df = pd.read_csv(f'{BASE_DIR}/example_training/example.csv', header=0, index_col='datetime')\n",
    "df = df.loc[(df.observation > 0) & (df.prediction > 0)]\n",
    "df.index = pd.to_datetime(df.index)\n",
    "df = df.sort_index()\n",
    "\n",
    "# reindex df to contain all the dates\n",
    "df = df.reindex(idx, fill_value=np.nan)\n",
    "\n",
    "targets = df.observation.values.tolist()\n",
    "_df = df.drop(['observation'], axis=1)\n",
    "data = _df.values.tolist()\n",
    "\n",
    "# make time-series data for that station\n",
    "inputs = []\n",
    "labels = []\n",
    "dataset = make_dataset(data, targets[window_size:], window_size)\n",
    "for sample, target in dataset:\n",
    "    inputs.append(sample.numpy().flatten())\n",
    "    labels.append(target.numpy().flatten())\n",
    "\n",
    "# all data\n",
    "inputs = np.vstack(np.array(inputs))\n",
    "labels = np.vstack(np.array(labels))\n",
    "\n",
    "# removing nans\n",
    "# first for inputs\n",
    "data_isnan = np.isnan(inputs).any(axis=1)\n",
    "inputs = inputs[~data_isnan]\n",
    "labels = labels[~data_isnan]\n",
    "\n",
    "# next for labels\n",
    "label_isnan = np.isnan(labels).any(axis=1)\n",
    "inputs = inputs[~label_isnan]\n",
    "labels = labels[~label_isnan]\n",
    "labels = labels.ravel()\n",
    "\n",
    "input_train, input_test, label_train, label_test = train_test_split(inputs, labels, train_size=0.7, random_state=42)\n",
    "\n",
    "model = RandomForestRegressor(n_estimators=n_estimators, criterion='squared_error', oob_score=True, n_jobs=4)\n",
    "# fit model\n",
    "model.fit(input_train, label_train)\n",
    "\n",
    "# make predictions\n",
    "test_predictions = model.predict(input_test)\n",
    "\n",
    "test_mae = np.mean(np.absolute(label_test - test_predictions))\n",
    "\n",
    "print(f'test mae: {test_mae}')\n",
    "\n",
    "print(f'oob_score: {model.oob_score_}')\n",
    "\n",
    "test_dict = {'prediction': test_predictions, 'label': label_test} \n",
    "test_pred_df = pd.DataFrame(test_dict) \n",
    "test_pred_df.to_csv(f'{output_folder}/model_output.csv', index=False)\n",
    "\n"
   ]
  },
  {
   "cell_type": "markdown",
   "id": "ffc9b09f-9bfb-4525-8dc2-3d94bcf2e369",
   "metadata": {
    "tags": []
   },
   "source": [
    "#### plot"
   ]
  },
  {
   "cell_type": "code",
   "execution_count": 8,
   "id": "db679a18-9f09-49aa-a696-704c1287c185",
   "metadata": {},
   "outputs": [
    {
     "name": "stdout",
     "output_type": "stream",
     "text": [
      "test mae: 21.774604361044954\n"
     ]
    },
    {
     "data": {
      "image/png": "[encoded data removed]",
      "text/plain": [
       "<Figure size 720x396 with 1 Axes>"
      ]
     },
     "metadata": {
      "needs_background": "light"
     },
     "output_type": "display_data"
    }
   ],
   "source": [
    "test_df = pd.read_csv(f'{output_folder}/model_output.csv', header=0)\n",
    "\n",
    "original = test_df.label\n",
    "predicted = test_df.prediction\n",
    "\n",
    "test_mae = mean_absolute_error(original, predicted)\n",
    "\n",
    "print(f'test mae: {test_mae}')\n",
    "\n",
    "x_ex = np.linspace(0, original.max(), num=10000)\n",
    "coefficients, others = np.polynomial.polynomial.polyfit(original, predicted, 1, full=True)\n",
    "# the order are reversed with polynomial.polyfit\n",
    "coefficients = coefficients[::-1]\n",
    "m, c = coefficients[0], coefficients[1]\n",
    "pred = [m*i + c for i in original]\n",
    "pred_eqn = f'y={round(m, 2)}x + {round(c, 2)}' if c >0 else f'y={round(m, 2)}x {round(c, 2)}'\n",
    "\n",
    "fig, axs = plt.subplots(figsize=(10, 5.5))\n",
    "\n",
    "axs.scatter(original, predicted, marker='o', c='red', s=7, label='scatter')\n",
    "axs.plot(x_ex, x_ex, '--k', label='1:1 line')\n",
    "axs.plot(original, pred, '-g', label=f'Linear fit ({pred_eqn})')\n",
    "axs.set_title(f'Original Vs Predicted')\n",
    "axs.set_xlabel('Original')\n",
    "axs.set_ylabel('Predicted')\n",
    "axs.legend(loc='upper left')\n",
    "\n",
    "plt.show()\n"
   ]
  },
  {
   "cell_type": "code",
   "execution_count": null,
   "id": "9248d235-a1a4-4604-af04-746c6d16d9d5",
   "metadata": {},
   "outputs": [],
   "source": []
  }
 ],
 "metadata": {
  "kernelspec": {
   "display_name": "cbias",
   "language": "python",
   "name": "cbias"
  },
  "language_info": {
   "codemirror_mode": {
    "name": "ipython",
    "version": 3
   },
   "file_extension": ".py",
   "mimetype": "text/x-python",
   "name": "python",
   "nbconvert_exporter": "python",
   "pygments_lexer": "ipython3",
   "version": "3.9.9"
  }
 },
 "nbformat": 4,
 "nbformat_minor": 5
}
