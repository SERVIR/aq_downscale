{
 "cells": [
  {
   "cell_type": "code",
   "execution_count": 8,
   "id": "f6db32be-40ba-4531-99f3-e53ad7cacaac",
   "metadata": {},
   "outputs": [],
   "source": [
    "import os\n",
    "BASE_DIR = os.path.dirname(os.path.dirname(os.path.abspath('__file__')))\n",
    "\n",
    "import time\n",
    "import glob\n",
    "from pathlib import Path\n",
    "\n",
    "import rasterio\n",
    "from rasterio.enums import Resampling"
   ]
  },
  {
   "cell_type": "code",
   "execution_count": 16,
   "id": "979130f2-f825-4571-8d7e-c48230a7586f",
   "metadata": {},
   "outputs": [
    {
     "name": "stdout",
     "output_type": "stream",
     "text": [
      "6.944444444444445\n",
      "5.555555555555555\n"
     ]
    }
   ],
   "source": [
    "# even number only\n",
    "upscale_factor = 4.2\n",
    "\n",
    "original_x = 0.3125\n",
    "original_y = 0.25\n",
    "\n",
    "desired_scale = 0.045\n",
    "\n",
    "width_upscale_factor = original_x / desired_scale\n",
    "height_upscale_factor = original_y / desired_scale\n",
    "\n",
    "print(width_upscale_factor)\n",
    "print(height_upscale_factor)"
   ]
  },
  {
   "cell_type": "code",
   "execution_count": null,
   "id": "f043ebf5-cdb5-43fb-8526-6ef668a2280c",
   "metadata": {},
   "outputs": [],
   "source": []
  },
  {
   "cell_type": "code",
   "execution_count": 10,
   "id": "d3f6cf27-b2c8-4646-a6b7-8d63b78f4210",
   "metadata": {},
   "outputs": [
    {
     "data": {
      "text/plain": [
       "'/Users/biplovbhandari/UAH/GRA_Work/AQ_Downscaling/forecast_data_thailand/'"
      ]
     },
     "execution_count": 10,
     "metadata": {},
     "output_type": "execute_result"
    }
   ],
   "source": [
    "model_out = f'{BASE_DIR}/forecast_data_thailand/'\n",
    "model_out"
   ]
  },
  {
   "cell_type": "code",
   "execution_count": 11,
   "id": "b208b16b-1a34-4b63-9f4e-6f1fb16f80e9",
   "metadata": {},
   "outputs": [
    {
     "data": {
      "text/plain": [
       "'/Users/biplovbhandari/UAH/GRA_Work/AQ_Downscaling/model_upscaled_3/'"
      ]
     },
     "execution_count": 11,
     "metadata": {},
     "output_type": "execute_result"
    }
   ],
   "source": [
    "out_path = f'{BASE_DIR}/model_upscaled_3/'\n",
    "Path(f'{out_path}').mkdir(parents=True, exist_ok=True)\n",
    "out_path"
   ]
  },
  {
   "cell_type": "code",
   "execution_count": 12,
   "id": "4b818c97-9787-453e-84ee-403cc02e1eb6",
   "metadata": {},
   "outputs": [],
   "source": [
    "dates = [f.path.split(model_out)[1] for f in os.scandir(model_out) if f.is_dir()]"
   ]
  },
  {
   "cell_type": "code",
   "execution_count": 13,
   "id": "5ec1fb5c-e584-4a23-b829-901fd1d2c0a0",
   "metadata": {},
   "outputs": [
    {
     "name": "stdout",
     "output_type": "stream",
     "text": [
      "Completed 1 out of 537: 0.19%\n",
      "Completed 21 out of 537: 3.91%\n",
      "Completed 41 out of 537: 7.64%\n",
      "Completed 61 out of 537: 11.36%\n",
      "Completed 81 out of 537: 15.08%\n",
      "Completed 101 out of 537: 18.81%\n",
      "Completed 121 out of 537: 22.53%\n",
      "Completed 141 out of 537: 26.26%\n",
      "Completed 161 out of 537: 29.98%\n",
      "Completed 181 out of 537: 33.71%\n",
      "Completed 201 out of 537: 37.43%\n",
      "Completed 221 out of 537: 41.15%\n",
      "Completed 241 out of 537: 44.88%\n",
      "Completed 261 out of 537: 48.6%\n",
      "Completed 281 out of 537: 52.33%\n",
      "Completed 301 out of 537: 56.05%\n",
      "Completed 321 out of 537: 59.78%\n",
      "Completed 341 out of 537: 63.5%\n",
      "Completed 361 out of 537: 67.23%\n",
      "Completed 381 out of 537: 70.95%\n",
      "Completed 401 out of 537: 74.67%\n",
      "Completed 421 out of 537: 78.4%\n",
      "Completed 441 out of 537: 82.12%\n",
      "Completed 461 out of 537: 85.85%\n",
      "Completed 481 out of 537: 89.57%\n",
      "Completed 501 out of 537: 93.3%\n",
      "Completed 521 out of 537: 97.02%\n",
      "Time: 0.41993560393651325 minutes\n"
     ]
    }
   ],
   "source": [
    "start = time.time()\n",
    "\n",
    "completed = 0\n",
    "\n",
    "for index, date in enumerate(dates):\n",
    "    tifs = glob.glob(f'{model_out}{date}/*.tif')\n",
    "    for tif in tifs:\n",
    "        dataset = rasterio.open(tif)\n",
    "\n",
    "        data = dataset.read(\n",
    "            out_shape = (\n",
    "                dataset.count,\n",
    "#                 int(dataset.height * upscale_factor),\n",
    "#                 int(dataset.width * upscale_factor),\n",
    "                int(dataset.height * height_upscale_factor),\n",
    "                int(dataset.width * width_upscale_factor),\n",
    "            ),\n",
    "#             resampling = Resampling.bilinear,\n",
    "            resampling = Resampling.nearest,\n",
    "        )\n",
    "        \n",
    "#         print(f'before:\\n {dataset.transform}')\n",
    "\n",
    "        transform = dataset.transform * dataset.transform.scale(\n",
    "            (dataset.width / data.shape[-1]),\n",
    "            (dataset.height / data.shape[-2]),\n",
    "        )\n",
    "\n",
    "#         print(f'after:\\n {transform}')\n",
    "\n",
    "        profile = dataset.profile\n",
    "        profile.update(transform=transform,\n",
    "#                        width=profile.get('width')*upscale_factor,\n",
    "#                        height=profile.get('height')*upscale_factor,\n",
    "                       width=profile.get('width')*width_upscale_factor,\n",
    "                       height=profile.get('height')*height_upscale_factor,\n",
    "                      )\n",
    "\n",
    "        Path(f'{out_path}{date}').mkdir(parents=True, exist_ok=True)\n",
    "\n",
    "        name = tif.split(f'{model_out}{date}/')[1]\n",
    "        with rasterio.open(f'{out_path}{date}/{name}', 'w', **profile) as dst:\n",
    "            dst.write(data)\n",
    "\n",
    "    completed += 1\n",
    "    if index % 20 == 0:\n",
    "        print(f'Completed {completed} out of {len(dates)}: {round(completed / len(dates) * 100, 2)}%')\n",
    "\n",
    "\n",
    "print(f'Time: {(time.time() - start) / 60.} minutes')"
   ]
  },
  {
   "cell_type": "code",
   "execution_count": null,
   "id": "f61cb767-8cbe-448f-97f0-36d65d665813",
   "metadata": {},
   "outputs": [],
   "source": []
  }
 ],
 "metadata": {
  "kernelspec": {
   "display_name": "aq",
   "language": "python",
   "name": "aq"
  },
  "language_info": {
   "codemirror_mode": {
    "name": "ipython",
    "version": 3
   },
   "file_extension": ".py",
   "mimetype": "text/x-python",
   "name": "python",
   "nbconvert_exporter": "python",
   "pygments_lexer": "ipython3",
   "version": "3.9.5"
  }
 },
 "nbformat": 4,
 "nbformat_minor": 5
}
